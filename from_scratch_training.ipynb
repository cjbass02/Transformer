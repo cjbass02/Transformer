{
 "cells": [
  {
   "cell_type": "code",
   "execution_count": 1,
   "metadata": {},
   "outputs": [
    {
     "name": "stdout",
     "output_type": "stream",
     "text": [
      "Requirement already satisfied: torch in c:\\users\\bassoc\\appdata\\local\\anaconda3new\\lib\\site-packages (2.7.0)\n",
      "Requirement already satisfied: filelock in c:\\users\\bassoc\\appdata\\local\\anaconda3new\\lib\\site-packages (from torch) (3.9.0)\n",
      "Requirement already satisfied: typing-extensions>=4.10.0 in c:\\users\\bassoc\\appdata\\local\\anaconda3new\\lib\\site-packages (from torch) (4.13.2)\n",
      "Requirement already satisfied: sympy>=1.13.3 in c:\\users\\bassoc\\appdata\\local\\anaconda3new\\lib\\site-packages (from torch) (1.14.0)\n",
      "Requirement already satisfied: networkx in c:\\users\\bassoc\\appdata\\local\\anaconda3new\\lib\\site-packages (from torch) (3.1)\n",
      "Requirement already satisfied: jinja2 in c:\\users\\bassoc\\appdata\\local\\anaconda3new\\lib\\site-packages (from torch) (3.1.2)\n",
      "Requirement already satisfied: fsspec in c:\\users\\bassoc\\appdata\\local\\anaconda3new\\lib\\site-packages (from torch) (2023.3.0)\n",
      "Requirement already satisfied: mpmath<1.4,>=1.1.0 in c:\\users\\bassoc\\appdata\\local\\anaconda3new\\lib\\site-packages (from sympy>=1.13.3->torch) (1.3.0)\n",
      "Requirement already satisfied: MarkupSafe>=2.0 in c:\\users\\bassoc\\appdata\\local\\anaconda3new\\lib\\site-packages (from jinja2->torch) (2.1.1)\n"
     ]
    }
   ],
   "source": [
    "!pip install torch"
   ]
  },
  {
   "cell_type": "code",
   "execution_count": 2,
   "metadata": {},
   "outputs": [
    {
     "name": "stdout",
     "output_type": "stream",
     "text": [
      "Running on the CPU\n",
      "Epoch 1/2 — Step 500 — Loss: 3.3071\n"
     ]
    },
    {
     "ename": "KeyboardInterrupt",
     "evalue": "",
     "output_type": "error",
     "traceback": [
      "\u001b[1;31m---------------------------------------------------------------------------\u001b[0m",
      "\u001b[1;31mKeyboardInterrupt\u001b[0m                         Traceback (most recent call last)",
      "Cell \u001b[1;32mIn[2], line 81\u001b[0m\n\u001b[0;32m     79\u001b[0m \u001b[38;5;66;03m# Backward\u001b[39;00m\n\u001b[0;32m     80\u001b[0m loss_layer\u001b[38;5;241m.\u001b[39mbackward()\n\u001b[1;32m---> 81\u001b[0m model\u001b[38;5;241m.\u001b[39mbackward()\n\u001b[0;32m     83\u001b[0m \u001b[38;5;66;03m# Update and clear\u001b[39;00m\n\u001b[0;32m     84\u001b[0m model\u001b[38;5;241m.\u001b[39mstep(learning_rate)\n",
      "File \u001b[1;32mc:\\Users\\bassoc\\OneDrive - Milwaukee School of Engineering\\Desktop\\Deep Learning\\Transformer\\from_scratch_transformer\\transformer.py:56\u001b[0m, in \u001b[0;36mTransformer.backward\u001b[1;34m(self)\u001b[0m\n\u001b[0;32m     54\u001b[0m \u001b[38;5;66;03m# Backprop through decoder blocks\u001b[39;00m\n\u001b[0;32m     55\u001b[0m \u001b[38;5;28;01mfor\u001b[39;00m blk \u001b[38;5;129;01min\u001b[39;00m \u001b[38;5;28mreversed\u001b[39m(\u001b[38;5;28mself\u001b[39m\u001b[38;5;241m.\u001b[39mblocks):\n\u001b[1;32m---> 56\u001b[0m     blk\u001b[38;5;241m.\u001b[39mbackward()\n\u001b[0;32m     57\u001b[0m \u001b[38;5;66;03m# Backprop through positional encoding into embeddings\u001b[39;00m\n\u001b[0;32m     58\u001b[0m \u001b[38;5;28mself\u001b[39m\u001b[38;5;241m.\u001b[39mpos_enc\u001b[38;5;241m.\u001b[39mbackward()\n",
      "File \u001b[1;32mc:\\Users\\bassoc\\OneDrive - Milwaukee School of Engineering\\Desktop\\Deep Learning\\Transformer\\from_scratch_transformer\\decoder_block.py:31\u001b[0m, in \u001b[0;36mDecoderBlock.backward\u001b[1;34m(self)\u001b[0m\n\u001b[0;32m     29\u001b[0m \u001b[38;5;28mself\u001b[39m\u001b[38;5;241m.\u001b[39mnorm2\u001b[38;5;241m.\u001b[39mbackward()\n\u001b[0;32m     30\u001b[0m \u001b[38;5;28mself\u001b[39m\u001b[38;5;241m.\u001b[39mff\u001b[38;5;241m.\u001b[39mbackward()\n\u001b[1;32m---> 31\u001b[0m \u001b[38;5;28mself\u001b[39m\u001b[38;5;241m.\u001b[39mnorm1\u001b[38;5;241m.\u001b[39mbackward()\n\u001b[0;32m     32\u001b[0m \u001b[38;5;28mself\u001b[39m\u001b[38;5;241m.\u001b[39mself_attn\u001b[38;5;241m.\u001b[39mbackward()\n",
      "File \u001b[1;32mc:\\Users\\bassoc\\OneDrive - Milwaukee School of Engineering\\Desktop\\Deep Learning\\Transformer\\from_scratch_transformer\\rms_norm.py:23\u001b[0m, in \u001b[0;36mRMSNorm.backward\u001b[1;34m(self)\u001b[0m\n\u001b[0;32m     21\u001b[0m x \u001b[38;5;241m=\u001b[39m \u001b[38;5;28mself\u001b[39m\u001b[38;5;241m.\u001b[39mx\u001b[38;5;241m.\u001b[39moutput; g \u001b[38;5;241m=\u001b[39m \u001b[38;5;28mself\u001b[39m\u001b[38;5;241m.\u001b[39mgamma\u001b[38;5;241m.\u001b[39moutput; grad \u001b[38;5;241m=\u001b[39m \u001b[38;5;28mself\u001b[39m\u001b[38;5;241m.\u001b[39mgrad\n\u001b[0;32m     22\u001b[0m dJdg \u001b[38;5;241m=\u001b[39m ((x\u001b[38;5;241m/\u001b[39m(torch\u001b[38;5;241m.\u001b[39msqrt((x\u001b[38;5;241m*\u001b[39m\u001b[38;5;241m*\u001b[39m\u001b[38;5;241m2\u001b[39m)\u001b[38;5;241m.\u001b[39msum(dim\u001b[38;5;241m=\u001b[39m\u001b[38;5;241m1\u001b[39m, keepdim\u001b[38;5;241m=\u001b[39m\u001b[38;5;28;01mTrue\u001b[39;00m)\u001b[38;5;241m/\u001b[39mx\u001b[38;5;241m.\u001b[39mshape[\u001b[38;5;241m1\u001b[39m])\u001b[38;5;241m+\u001b[39m\u001b[38;5;241m1e-9\u001b[39m))\u001b[38;5;241m*\u001b[39mgrad)\u001b[38;5;241m.\u001b[39msum(dim\u001b[38;5;241m=\u001b[39m\u001b[38;5;241m0\u001b[39m, keepdim\u001b[38;5;241m=\u001b[39m\u001b[38;5;28;01mTrue\u001b[39;00m)\n\u001b[1;32m---> 23\u001b[0m simple \u001b[38;5;241m=\u001b[39m grad \u001b[38;5;241m*\u001b[39m g \u001b[38;5;241m/\u001b[39m torch\u001b[38;5;241m.\u001b[39msqrt((x\u001b[38;5;241m*\u001b[39m\u001b[38;5;241m*\u001b[39m\u001b[38;5;241m2\u001b[39m)\u001b[38;5;241m.\u001b[39msum(dim\u001b[38;5;241m=\u001b[39m\u001b[38;5;241m1\u001b[39m, keepdim\u001b[38;5;241m=\u001b[39m\u001b[38;5;28;01mTrue\u001b[39;00m)\u001b[38;5;241m/\u001b[39mx\u001b[38;5;241m.\u001b[39mshape[\u001b[38;5;241m1\u001b[39m])\n\u001b[0;32m     24\u001b[0m dJdx \u001b[38;5;241m=\u001b[39m simple \u001b[38;5;241m-\u001b[39m x\u001b[38;5;241m*\u001b[39m(simple\u001b[38;5;241m*\u001b[39mx)\u001b[38;5;241m.\u001b[39msum(dim\u001b[38;5;241m=\u001b[39m\u001b[38;5;241m1\u001b[39m,keepdim\u001b[38;5;241m=\u001b[39m\u001b[38;5;28;01mTrue\u001b[39;00m)\u001b[38;5;241m/\u001b[39m(x\u001b[38;5;241m.\u001b[39mshape[\u001b[38;5;241m1\u001b[39m]\u001b[38;5;241m*\u001b[39m (torch\u001b[38;5;241m.\u001b[39msqrt((x\u001b[38;5;241m*\u001b[39m\u001b[38;5;241m*\u001b[39m\u001b[38;5;241m2\u001b[39m)\u001b[38;5;241m.\u001b[39msum(dim\u001b[38;5;241m=\u001b[39m\u001b[38;5;241m1\u001b[39m, keepdim\u001b[38;5;241m=\u001b[39m\u001b[38;5;28;01mTrue\u001b[39;00m)\u001b[38;5;241m/\u001b[39mx\u001b[38;5;241m.\u001b[39mshape[\u001b[38;5;241m1\u001b[39m])\u001b[38;5;241m+\u001b[39m\u001b[38;5;241m1e-9\u001b[39m)\u001b[38;5;241m*\u001b[39m\u001b[38;5;241m*\u001b[39m\u001b[38;5;241m2\u001b[39m)\n\u001b[0;32m     25\u001b[0m \u001b[38;5;28mself\u001b[39m\u001b[38;5;241m.\u001b[39mgamma\u001b[38;5;241m.\u001b[39maccumulate_grad(dJdg)\n",
      "File \u001b[1;32mc:\\Users\\bassoc\\AppData\\Local\\anaconda3NEW\\Lib\\site-packages\\torch\\_tensor.py:39\u001b[0m, in \u001b[0;36m_handle_torch_function_and_wrap_type_error_to_not_implemented.<locals>.wrapped\u001b[1;34m(*args, **kwargs)\u001b[0m\n\u001b[0;32m     37\u001b[0m     \u001b[38;5;28;01mif\u001b[39;00m has_torch_function(args):\n\u001b[0;32m     38\u001b[0m         \u001b[38;5;28;01mreturn\u001b[39;00m handle_torch_function(wrapped, args, \u001b[38;5;241m*\u001b[39margs, \u001b[38;5;241m*\u001b[39m\u001b[38;5;241m*\u001b[39mkwargs)\n\u001b[1;32m---> 39\u001b[0m     \u001b[38;5;28;01mreturn\u001b[39;00m f(\u001b[38;5;241m*\u001b[39margs, \u001b[38;5;241m*\u001b[39m\u001b[38;5;241m*\u001b[39mkwargs)\n\u001b[0;32m     40\u001b[0m \u001b[38;5;28;01mexcept\u001b[39;00m \u001b[38;5;167;01mTypeError\u001b[39;00m:\n\u001b[0;32m     41\u001b[0m     \u001b[38;5;28;01mreturn\u001b[39;00m \u001b[38;5;28mNotImplemented\u001b[39m\n",
      "\u001b[1;31mKeyboardInterrupt\u001b[0m: "
     ]
    }
   ],
   "source": [
    "import torch\n",
    "from from_scratch_transformer.transformer import Transformer\n",
    "from from_scratch_transformer.layers import Input, Softmax\n",
    "\n",
    "torch.set_default_dtype(torch.float32)\n",
    "if torch.cuda.is_available():\n",
    "     torch.set_default_device(0)\n",
    "     print(\"Running on the GPU\")\n",
    "else:\n",
    "     print(\"Running on the CPU\")\n",
    "\n",
    "# Hyperparameters\n",
    "seq_len       = 100    \n",
    "epochs        = 2\n",
    "learning_rate = 0.1\n",
    "\n",
    "# Model dimensions\n",
    "d_model    = 512      # embedding size\n",
    "num_heads  = 8        # Number of heads in each attention block\n",
    "d_ff       = 2048     # FF hidden dim \n",
    "num_layers = 2     # number of decoder blocks\n",
    "\n",
    "# Load data\n",
    "with open('input.txt', 'r', encoding='utf-8') as f:\n",
    "    text = f.read()\n",
    "\n",
    "# Build vocab\n",
    "chars = sorted(set(text))\n",
    "vocab_size = len(chars)\n",
    "stoi = {ch: i for i, ch in enumerate(chars)}\n",
    "itos = {i: ch for ch, i in stoi.items()}\n",
    "\n",
    "# Encode text as ids\n",
    "data = torch.tensor([stoi[ch] for ch in text], dtype=torch.long)\n",
    "\n",
    "def get_batch(start):\n",
    "    x = data[start : start + seq_len]          # [T]\n",
    "    y = data[start + 1 : start + 1 + seq_len]  # [T]\n",
    "    return x, y\n",
    "\n",
    "# i nit model\n",
    "model = Transformer(vocab_size, d_model, num_heads, d_ff, num_layers)\n",
    "all_preds = []\n",
    "# Training loop\n",
    "for epoch in range(1, epochs + 1):\n",
    "    total_loss = 0.0\n",
    "    total_correct = 0\n",
    "    total_tokens = 0\n",
    "\n",
    "    steps = 0\n",
    "    for i in range(0, data.size(0) - seq_len - 1, seq_len):\n",
    "        x_seq, y_seq = get_batch(i)   \n",
    "\n",
    "        # Forward\n",
    "        out_lin = model.forward(x_seq)   # out_lin.output: [T, V]\n",
    "        logits  = out_lin.output         \n",
    "        T, V    = logits.shape\n",
    "\n",
    "        # Compute predictions\n",
    "        preds = logits.argmax(dim=1)    \n",
    "        # all_preds.append(preds)\n",
    "        # print(preds)\n",
    "        next_char = itos[preds[-1].item()]\n",
    "        all_preds.append(next_char)\n",
    "        total_correct += (preds == y_seq).sum().item()\n",
    "        total_tokens  += T\n",
    "\n",
    "        # one hot encode targets\n",
    "        target_onehot = torch.zeros_like(logits)\n",
    "        target_onehot[torch.arange(T), y_seq] = 1.0\n",
    "        target_layer = Input(T, V)\n",
    "        target_layer.set(target_onehot)\n",
    "\n",
    "        # Loss\n",
    "        loss_layer = Softmax(out_lin, target_layer)\n",
    "        loss_layer.forward()\n",
    "        loss = loss_layer.output\n",
    "\n",
    "        # Backward\n",
    "        loss_layer.backward()\n",
    "        model.backward()\n",
    "\n",
    "        # Update and clear\n",
    "        model.step(learning_rate)\n",
    "        loss_layer.clear_grad()\n",
    "        model.clear_grad()\n",
    "\n",
    "        total_loss += loss.item()\n",
    "        steps += 1\n",
    "        if steps % 500 == 0:\n",
    "            print(f'Epoch {epoch}/{epochs} — Step {steps} — Loss: {loss.item():.4f}')\n",
    "\n",
    "    avg_loss = total_loss / steps if steps > 0 else float('nan')\n",
    "    accuracy = total_correct / total_tokens if total_tokens > 0 else float('nan')\n",
    "    print(f'Epoch {epoch}/{epochs} — avg_loss: {avg_loss:.4f}, accuracy: {accuracy:.2%}')\n",
    "\n"
   ]
  },
  {
   "cell_type": "code",
   "execution_count": 5,
   "metadata": {},
   "outputs": [
    {
     "data": {
      "image/png": "[encoded data removed]",
      "text/plain": [
       "<Figure size 640x480 with 1 Axes>"
      ]
     },
     "metadata": {},
     "output_type": "display_data"
    }
   ],
   "source": [
    "import matplotlib.pyplot as plt\n",
    "plt.hist(all_preds, bins = 35)\n",
    "plt.show()"
   ]
  },
  {
   "cell_type": "code",
   "execution_count": 6,
   "metadata": {},
   "outputs": [],
   "source": [
    "def generate(prompt: str, max_gen: int = 100) -> str:\n",
    "    # Encode prompt to token ids\n",
    "    context = torch.tensor([stoi.get(ch, 0) for ch in prompt], dtype=torch.long)\n",
    "\n",
    "    # Generate one token at a time\n",
    "    for _ in range(max_gen):\n",
    "        # Forward pass\n",
    "        out_lin = model.forward(context)\n",
    "        logits = out_lin.output  \n",
    "        # Take last tokens logits\n",
    "        next_logits = logits[-1]\n",
    "        # argmax (greedy apporach)\n",
    "        next_id = int(torch.argmax(next_logits).item())\n",
    "        # Append to context\n",
    "        context = torch.cat([context, torch.tensor([next_id], dtype=torch.long)])\n",
    "\n",
    "    generated_ids = context[len(prompt):].tolist()\n",
    "    return ''.join(itos[i] for i in generated_ids)\n"
   ]
  },
  {
   "cell_type": "code",
   "execution_count": 10,
   "metadata": {},
   "outputs": [
    {
     "name": "stdout",
     "output_type": "stream",
     "text": [
      "\n",
      "Generated: my biggest regret is that I will never be able toutherere theeeeeeeeeeeeeeeeererererereererererererererererererererererererererererererererererererer\n"
     ]
    }
   ],
   "source": [
    "prompt = input(\"Enter prompt: \")\n",
    "length = int(input(\"Max generation length: \"))\n",
    "completion = generate(prompt, max_gen=length)\n",
    "print(f\"\\nGenerated: {prompt + completion}\")"
   ]
  }
 ],
 "metadata": {
  "kernelspec": {
   "display_name": "base",
   "language": "python",
   "name": "python3"
  },
  "language_info": {
   "codemirror_mode": {
    "name": "ipython",
    "version": 3
   },
   "file_extension": ".py",
   "mimetype": "text/x-python",
   "name": "python",
   "nbconvert_exporter": "python",
   "pygments_lexer": "ipython3",
   "version": "3.11.4"
  },
  "orig_nbformat": 4
 },
 "nbformat": 4,
 "nbformat_minor": 2
}
